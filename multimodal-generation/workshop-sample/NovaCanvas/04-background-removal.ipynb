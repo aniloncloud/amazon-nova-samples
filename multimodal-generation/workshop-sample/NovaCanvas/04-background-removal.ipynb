{
 "cells": [
  {
   "cell_type": "markdown",
   "id": "0",
   "metadata": {
    "tags": []
   },
   "source": [
    "## Introduction to Background Removal\n",
    "\n",
    "Background Removal - Isolates objects from their original backgrounds.\n",
    "\n",
    "### Use Case\n",
    "\n",
    "OctankFashion want to reuse some of the marketing images of their shirts on their retail website product pages. Their website design standards dictate that all product images must have a transparent background so as not to distract from the shirt's design. Nova Canvas's background removal features is perfect for this task.\n",
    "\n",
    "To use this feature, you just need to provide the image to the model. The model will automatically determine which parts of the image should be considered foreground and background, no prompting required!\n"
   ]
  },
  {
   "cell_type": "markdown",
   "id": "1",
   "metadata": {},
   "source": [
    "<div class=\"alert alert-block alert-warning\">\n",
    "<b>Prerequisites:</b> Please run the prerequiresites <b>00-prerequisites.ipynb</b> first before proceeding.\n",
    "</div>\n"
   ]
  },
  {
   "cell_type": "code",
   "execution_count": null,
   "id": "2",
   "metadata": {
    "tags": []
   },
   "outputs": [],
   "source": [
    "import io\n",
    "import json\n",
    "import base64\n",
    "import boto3\n",
    "from botocore.config import Config\n",
    "from PIL import Image\n",
    "from utils import save_image, plot_images\n",
    "\n",
    "bedrock_runtime_client = boto3.client(\n",
    "    \"bedrock-runtime\",\n",
    "    region_name=\"us-east-1\",\n",
    "    config=Config(\n",
    "        read_timeout=5 * 60\n",
    "    ),  # IMPORTANT: Increase the read timeout to 5 minutes to support longer operations.\n",
    ")\n",
    "image_generation_model_id = \"amazon.nova-canvas-v1:0\"\n",
    "output_dir = \"output\""
   ]
  },
  {
   "cell_type": "markdown",
   "id": "3",
   "metadata": {},
   "source": [
    "The following parameters are specific to the \"BACKGROUND_REMOVAL\" task type and are encapsulated in the `backgroundRemovalParams` field of the request body.\n",
    "\n",
    "- `image` (Required) – The JPEG or PNG image to modify, encoded as a Base64 string. (See code below for how to encode an image as Base64.)\n",
    "\n",
    "To demonstrate, we'll use the image below. Run the cells below to remove the background. The generated image will be saved to the \"output\" folder.\n",
    "\n",
    "<img src=\"data/tshirt_palm_tree_wood_bkg.png\" height=\"400\">\n"
   ]
  },
  {
   "cell_type": "code",
   "execution_count": null,
   "id": "4",
   "metadata": {},
   "outputs": [],
   "source": [
    "# Specify the image from which to remove the background.\n",
    "reference_image_path = \"data/tshirt_palm_tree_wood_bkg.png\""
   ]
  },
  {
   "cell_type": "code",
   "execution_count": null,
   "id": "5",
   "metadata": {},
   "outputs": [],
   "source": [
    "with open(reference_image_path, \"rb\") as image_file:\n",
    "    input_image = base64.b64encode(image_file.read()).decode(\"utf8\")\n",
    "\n",
    "body = json.dumps(\n",
    "    {\n",
    "        \"taskType\": \"BACKGROUND_REMOVAL\",\n",
    "        \"backgroundRemovalParams\": {\"image\": input_image},\n",
    "    }\n",
    ")\n",
    "\n",
    "print(\"Generating image...\")\n",
    "\n",
    "response = bedrock_runtime_client.invoke_model(\n",
    "    body=body,\n",
    "    modelId=image_generation_model_id,\n",
    "    accept=\"application/json\",\n",
    "    contentType=\"application/json\",\n",
    ")\n",
    "\n",
    "response_body = json.loads(response.get(\"body\").read())\n",
    "\n",
    "base64_images = response_body.get(\"images\")\n",
    "image_path = f\"{output_dir}/04-background-removal.png\"\n",
    "save_image(base64_images[0], image_path)\n",
    "\n",
    "print(f\"Image saved to {image_path}\")\n",
    "\n",
    "response_images = [\n",
    "    Image.open(io.BytesIO(base64.b64decode(base64_image)))\n",
    "    for base64_image in base64_images\n",
    "]\n",
    "\n",
    "plot_images(\n",
    "    response_images,\n",
    "    ref_image_path=reference_image_path,\n",
    "    original_title=\"Original Image\",\n",
    "    processed_title=\"Processed Image without Background\",\n",
    ")"
   ]
  },
  {
   "cell_type": "markdown",
   "id": "6",
   "metadata": {},
   "source": [
    "## Take Away\n"
   ]
  },
  {
   "cell_type": "markdown",
   "id": "7",
   "metadata": {
    "tags": []
   },
   "source": [
    "Background removal is a powerful feature that automatically detects and isolates objects in images. This tool creates a transparent background, preserving only the main subject. By eliminating the original background, users can easily manipulate the isolated object, placing it into new contexts or compositions.\n"
   ]
  }
 ],
 "metadata": {
  "kernelspec": {
   "display_name": ".venv",
   "language": "python",
   "name": "python3"
  },
  "language_info": {
   "codemirror_mode": {
    "name": "ipython",
    "version": 3
   },
   "file_extension": ".py",
   "mimetype": "text/x-python",
   "name": "python",
   "nbconvert_exporter": "python",
   "pygments_lexer": "ipython3",
   "version": "3.12.4"
  }
 },
 "nbformat": 4,
 "nbformat_minor": 5
}
